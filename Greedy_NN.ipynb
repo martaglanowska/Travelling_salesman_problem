{
 "cells": [
  {
   "cell_type": "markdown",
   "metadata": {
    "id": "medyw5rZrjSQ"
   },
   "source": [
    "# Travelling salesman problem - the Nearest Neighbour algorithm"
   ]
  },
  {
   "cell_type": "markdown",
   "metadata": {},
   "source": [
    "**Set of cities:** cities are points with coordinates x, y on a plane with height as z coordinate. \n",
    "\n",
    "**Moving:** cost of going from city A to city B is equal to the Euclidean distance between two cities, if there exists a road. Two scenarios criteria:\n",
    "* There are all the direct connections / e.g. 80% of possible connections\n",
    "* The problem is symmetrical / asymmetrical (if asymmetrical – going up is height +10%, going down: -10%)\n",
    "\n",
    "**Choosing coordinates:** randomly from the range <-100, 100> for x, y and <0, 50> for z.\n"
   ]
  },
  {
   "cell_type": "code",
   "execution_count": null,
   "metadata": {
    "id": "zY4mGpzpBse9"
   },
   "outputs": [],
   "source": [
    "import random\n",
    "from collections import deque\n",
    "import pandas as pd\n",
    "import time"
   ]
  },
  {
   "cell_type": "code",
   "execution_count": null,
   "metadata": {
    "id": "OBZ2FKTFCBcX"
   },
   "outputs": [],
   "source": [
    "#creating a list of cities\n",
    "random.seed(12345)\n",
    "cities = []\n",
    "for i in range (0,10):\n",
    "  cities.append([i, random.uniform(-100,100), random.uniform(-100,100), random.uniform(0,50)])\n",
    "\n",
    "#function measuring the distance from point 1 to point 2\n",
    "def euclidean(point1, point2, sym):\n",
    "\n",
    "  euclidean = ((point1[1]-point2[1])**2 + (point1[2]-point2[2])**2 + (point1[3]-point2[3])**2)**(1/2)\n",
    "\n",
    "  if sym == True:\n",
    "    return euclidean\n",
    "  elif sym == False:\n",
    "    if point2[2]>point1[2]:\n",
    "      return euclidean*1.1\n",
    "    elif point2[2]<point1[2]:\n",
    "      return euclidean*0.9\n",
    "    else:\n",
    "      return euclidean\n",
    "\n",
    "#function creating the directed graph, connecting nodes with each other with weighted edges (using euclidean function)\n",
    "def create_graph(nodes, conn, sym):\n",
    "\n",
    "  poss_conn_num = len(nodes) * (len(nodes) - 1)   #number of all possible connections\n",
    "\n",
    "  if conn > 1 or conn <= 0: raise ValueError\n",
    "\n",
    "  edges = []\n",
    "\n",
    "  for k in range (0, len(nodes)):\n",
    "    for i in range (0, len(nodes)):\n",
    "      if i != k:\n",
    "        edges.append([nodes[k], nodes[i], euclidean(nodes[k], nodes[i], sym)])\n",
    "\n",
    "  if conn <= 1 and conn > 0: \n",
    "    rem_conn_num = round(poss_conn_num*(1-conn))     #number of paths we need to remove\n",
    "    for i in range (0, rem_conn_num):\n",
    "      del edges[random.randrange(0, len(edges))]\n",
    "  \n",
    "  return edges\n",
    "\n",
    "#creating a graph\n",
    "graph = create_graph(cities, 0.9, False)"
   ]
  },
  {
   "cell_type": "markdown",
   "metadata": {},
   "source": [
    "**Task:** Implement a greedy algorithm with nearest neighbour as criterium and another greedy algorithm of your choice to solve the travelling salesman problem."
   ]
  },
  {
   "cell_type": "code",
   "execution_count": null,
   "metadata": {
    "id": "4dcjlNZ-NIxq"
   },
   "outputs": [],
   "source": [
    "citystart = cities[0][0]"
   ]
  },
  {
   "cell_type": "markdown",
   "metadata": {
    "id": "tZOppDHgM8G4"
   },
   "source": [
    "#### **Greedy algorithm with the nearest neighbour criterion**"
   ]
  },
  {
   "cell_type": "markdown",
   "metadata": {
    "id": "2TDNCDLUNI1j"
   },
   "source": [
    "Greedy algorithm - an algorithm that, in order to determine a solution at each step, makes a greedy, that is the most promising at a given moment, selection of a partial solution. In other words, the greedy algorithm does not assess whether it makes sense to perform a given action in the next steps, it makes a locally optimal decision, it makes a choice that seems to be the best at the moment, continuing to solve the sub-problem resulting from the decision made. "
   ]
  },
  {
   "cell_type": "code",
   "execution_count": null,
   "metadata": {
    "colab": {
     "base_uri": "https://localhost:8080/"
    },
    "id": "Q7_c4kaVNH2z",
    "outputId": "20b99279-4dec-4635-b870-d7d28e771a9f"
   },
   "outputs": [
    {
     "data": {
      "text/plain": [
       "[[0, 6, 2, 9, 4, 3, 1, 7, 5, 8, 0], 716.497298188779]"
      ]
     },
     "execution_count": 56,
     "metadata": {},
     "output_type": "execute_result"
    }
   ],
   "source": [
    "def greedy_nn(departure_point):\n",
    "  start = departure_point\n",
    "  nn_path = [[start], 0]\n",
    "  no_way_flag = False\n",
    "  \n",
    "  while len(nn_path[0])<len(cities):\n",
    "    visited = set(nn_path[0])\n",
    "    nndist = [[], 100000]\n",
    "    for path in graph:\n",
    "      if path[0][0] == start and path[1][0] not in visited:\n",
    "        if path[2] < nndist[1]: \n",
    "          nndist = [path[1][0], path[2]]\n",
    "    nn_path[0].append(nndist[0])\n",
    "    nn_path[1] = nn_path[1] + nndist[1]\n",
    "    start = nndist[0]\n",
    "    #print(nn_path[0])\n",
    "    if nn_path[0][-1] == []:\n",
    "      no_way_flag = True        #there is no further connection and we cannot create a full cycle (because still not every city is on our list)\n",
    "      break\n",
    "\n",
    "  if no_way_flag == False:\n",
    "    last_point_flag = False     #we did not find a connection to the departure_point yet\n",
    "    for path in graph:\n",
    "      if path[0][0] == nn_path[0][-1] and path[1][0] == departure_point:\n",
    "        nn_path[0].append(departure_point)\n",
    "        nn_path[1] = nn_path[1] + path[2]\n",
    "        last_point_flag = True\n",
    "        break\n",
    "    if last_point_flag == False:\n",
    "      nn_path = [None, 0]         #the cycle could not be closed (last point)\n",
    "  else:\n",
    "    nn_path = [None, 0]   #there are not all the existing cities on our list\n",
    "    \n",
    "  return nn_path\n",
    "\n",
    "greedy_nn(citystart)"
   ]
  },
  {
   "cell_type": "markdown",
   "metadata": {
    "id": "FwbDxsEYvw2K"
   },
   "source": [
    "#### **Greedy algorithm #2 - the nearest neighbour algorithm modification**"
   ]
  },
  {
   "cell_type": "markdown",
   "metadata": {
    "id": "17iUFjgtZ4OU"
   },
   "source": [
    "We choose a city with the second smallest distance (if it exists, in other case we choose the closest one)."
   ]
  },
  {
   "cell_type": "code",
   "execution_count": null,
   "metadata": {
    "colab": {
     "base_uri": "https://localhost:8080/"
    },
    "id": "i0icXVEbZ9qc",
    "outputId": "758dd212-ffa2-4317-eb19-0684db30df06"
   },
   "outputs": [
    {
     "data": {
      "text/plain": [
       "[[0, 2, 4, 3, 1, 6, 7, 5, 8, 9, 0], 838.1440259479851]"
      ]
     },
     "execution_count": 55,
     "metadata": {},
     "output_type": "execute_result"
    }
   ],
   "source": [
    "def greedy_nn_modified(departure_point):\n",
    "  start = departure_point\n",
    "  nn_path = [[start], 0]\n",
    "  no_way_flag = False\n",
    "  \n",
    "  while len(nn_path[0])<len(cities):\n",
    "    visited = set(nn_path[0])\n",
    "    nndist = [[], 100000]\n",
    "    nndistold = [[], 100000]\n",
    "\n",
    "    for path in graph:\n",
    "      if path[0][0] == start and path[1][0] not in visited:\n",
    "        if path[2] < nndist[1]: \n",
    "          nndistold = nndist\n",
    "          nndist = [path[1][0], path[2]]\n",
    "          #print(nndist)\n",
    "\n",
    "    if nndistold[0] == []:                  #there was just one node to choose from\n",
    "      nn_path[0].append(nndist[0])\n",
    "      nn_path[1] = nn_path[1] + nndist[1]\n",
    "      #print(nn_path[0])\n",
    "      start = nndist[0]\n",
    "    else:                                 #we found the second closest node\n",
    "      nn_path[0].append(nndistold[0])\n",
    "      nn_path[1] = nn_path[1] + nndistold[1]\n",
    "      #print(nn_path[0])\n",
    "      start = nndistold[0]\n",
    "\n",
    "    if nn_path[0][-1] == []:\n",
    "      no_way_flag = True        #there is no further connection and we cannot create a full cycle (because still not every city is on our list)\n",
    "      break\n",
    "\n",
    "  if no_way_flag == False:\n",
    "    last_point_flag = False     #we did not find a connection to the departure_point yet\n",
    "    for path in graph:\n",
    "      if path[0][0] == nn_path[0][-1] and path[1][0] == departure_point:\n",
    "        nn_path[0].append(departure_point)\n",
    "        nn_path[1] = nn_path[1] + path[2]\n",
    "        last_point_flag = True\n",
    "        break\n",
    "    if last_point_flag == False:\n",
    "      nn_path = [None, 0]         #the cycle could not be closed (last point)\n",
    "  else:\n",
    "    nn_path = [None, 0]   #there are not all the existing cities on our list\n",
    "    \n",
    "  return nn_path\n",
    "\n",
    "citystart = cities[0][0]\n",
    "greedy_nn_modified(citystart)"
   ]
  },
  {
   "cell_type": "markdown",
   "metadata": {},
   "source": [
    "#### **Technical note**\n",
    "To test/show the effectiveness and co-replenishment of the algorithms, we can use:\n",
    "* seed(1234), range(0,10), 90%\n",
    "\n",
    "the NN algorithm enters the while loop, but adds an empty list (no_way_flag -> True), the modified algorithm finds the complete cycle \n",
    "* seed(123), range(0,10), 90% \n",
    "\n",
    "none of the algorithms find the last path back to the starting point (last_point_flag -> False) \n",
    "* seed(123), range(0,10), 100% \n",
    "\n",
    "both algorithms find the best path, but the modified algorithm's one is much longer\n",
    "\n",
    "* seed(12345), range(0,10), 90%\n",
    "\n",
    "the NN algorithm finds the best path, while the modified algorithm enters the while loop, but adds an empty list (no_way_flag -> True)"
   ]
  },
  {
   "cell_type": "code",
   "execution_count": null,
   "metadata": {
    "id": "x9yhl8i-O2bZ"
   },
   "outputs": [],
   "source": []
  }
 ],
 "metadata": {
  "colab": {
   "collapsed_sections": [],
   "provenance": []
  },
  "kernelspec": {
   "display_name": "Python 3 (ipykernel)",
   "language": "python",
   "name": "python3"
  },
  "language_info": {
   "codemirror_mode": {
    "name": "ipython",
    "version": 3
   },
   "file_extension": ".py",
   "mimetype": "text/x-python",
   "name": "python",
   "nbconvert_exporter": "python",
   "pygments_lexer": "ipython3",
   "version": "3.7.1"
  }
 },
 "nbformat": 4,
 "nbformat_minor": 1
}
