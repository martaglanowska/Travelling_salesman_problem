{
  "cells": [
    {
      "cell_type": "markdown",
      "metadata": {
        "id": "EMfvw6CoGkqg"
      },
      "source": [
        "# Travelling salesman problem - A\\* algorithm"
      ]
    },
    {
      "cell_type": "markdown",
      "metadata": {},
      "source": [
        "**Set of cities:** cities are points with coordinates x, y on a plane with height as z coordinate. \n",
        "\n",
        "**Moving:** cost of going from city A to city B is equal to the Euclidean distance between two cities, if there exists a road. Two scenarios criteria:\n",
        "* There are all the direct connections / e.g. 80% of possible connections\n",
        "* The problem is symmetrical / asymmetrical (if asymmetrical – going up is height +10%, going down: -10%)\n",
        "\n",
        "**Choosing coordinates:** randomly from the range <-100, 100> for x, y and <0, 50> for z.\n"
      ]
    },
    {
      "cell_type": "code",
      "execution_count": null,
      "metadata": {
        "id": "hh2c8CrYIPyh"
      },
      "outputs": [],
      "source": [
        "import random\n",
        "import pandas as pd\n",
        "import matplotlib.pyplot as plt\n",
        "from collections import deque"
      ]
    },
    {
      "cell_type": "markdown",
      "metadata": {
        "id": "yzUtitt_JTRT"
      },
      "source": [
        "#### **Creating a graph**"
      ]
    },
    {
      "cell_type": "code",
      "execution_count": null,
      "metadata": {
        "id": "xKBlOreoIIW4"
      },
      "outputs": [],
      "source": [
        "#creating a list of cities\n",
        "random.seed(12345)\n",
        "cities = []\n",
        "num_cities = 10\n",
        "for i in range (0,num_cities):\n",
        "  cities.append([i, random.uniform(-100,100), random.uniform(-100,100), random.uniform(0,50)])\n",
        "\n",
        "#function measuring the distance from point 1 to point 2\n",
        "def euclidean(point1, point2, sym):\n",
        "\n",
        "  euclidean = ((point1[1]-point2[1])**2 + (point1[2]-point2[2])**2 + (point1[3]-point2[3])**2)**(1/2)\n",
        "\n",
        "  if sym == True:\n",
        "    return euclidean\n",
        "  elif sym == False:\n",
        "    if point2[2]>point1[2]:\n",
        "      return euclidean*1.1\n",
        "    elif point2[2]<point1[2]:\n",
        "      return euclidean*0.9\n",
        "    else:\n",
        "      return euclidean\n",
        "\n",
        "#function creating the directed graph, connecting nodes with each other with weighted edges (using euclidean function)\n",
        "def create_graph(nodes, conn, sym):\n",
        "\n",
        "  poss_conn_num = len(nodes) * (len(nodes) - 1)   #number of all possible connections\n",
        "\n",
        "  if conn > 1 or conn <= 0: raise ValueError\n",
        "\n",
        "  edges = []\n",
        "\n",
        "  for k in range (0, len(nodes)):\n",
        "    for i in range (0, len(nodes)):\n",
        "      if i != k:\n",
        "        edges.append([nodes[k], nodes[i], euclidean(nodes[k], nodes[i], sym)])\n",
        "\n",
        "  if conn <= 1 and conn > 0: \n",
        "    rem_conn_num = round(poss_conn_num*(1-conn))     #number of paths we need to remove\n",
        "    for i in range (0, rem_conn_num):\n",
        "      del edges[random.randrange(0, len(edges))]\n",
        "  \n",
        "  return edges\n",
        "\n",
        "#creating a graph\n",
        "graph = create_graph(cities, 0.8, False)\n",
        "#choosing an inicial point of travel\n",
        "citystart = cities[2][0]"
      ]
    },
    {
      "cell_type": "code",
      "execution_count": null,
      "metadata": {
        "id": "0eGkrbTCH1Wd"
      },
      "outputs": [],
      "source": [
        "for edge in graph:\n",
        "  if edge[0][0] == 8 and edge[1][0] == 3:\n",
        "    print(edge)"
      ]
    },
    {
      "cell_type": "markdown",
      "metadata": {},
      "source": [
        "**Task:** Use A\\* with inadmissible/admissible heuristics to approximate the solution of travelling salesman problem."
      ]
    },
    {
      "cell_type": "markdown",
      "metadata": {
        "id": "53qaSjuIsDTg"
      },
      "source": [
        "#### **A\\* search algorithm**\n"
      ]
    },
    {
      "cell_type": "code",
      "execution_count": null,
      "metadata": {
        "id": "x7020WU_IH_T"
      },
      "outputs": [],
      "source": [
        "def a_star(departure_point):\n",
        "\n",
        "  start = departure_point  #parent\n",
        "  A_path = [[start], 0]  #order of the nodes and path length\n",
        "  no_way_flag = False\n",
        "\n",
        "  while len(A_path[0])<len(cities)+1:\n",
        "    visited = set(A_path[0])\n",
        "\n",
        "    #we try to choose the next node counting the f = g + h value\n",
        "    #g is the current path length + g_add (means path from parent to the node)\n",
        "    #h is heuristic, I define it as h = ff * n (min cost value out of all the paths still possible to go through * number of nodes to visit)\n",
        "\n",
        "    n = num_cities - len(visited)\n",
        "\n",
        "    best_child = [None, 10000000]  #node number, value of f\n",
        "\n",
        "    if n != 0:\n",
        "      #we look for the children\n",
        "      for path in graph:\n",
        "        #parent -> child paths\n",
        "        if path[0][0] == start and path[1][0] not in visited:\n",
        "          g_add = path[2]\n",
        "          ff_min = 10000000\n",
        "          #we search for min of all the possible paths to go through\n",
        "          for approx_path in graph:\n",
        "            if (approx_path[0][0] not in visited and approx_path[1][0] not in visited and approx_path[1][0] != path[1][0]) or (approx_path[0][0] not in visited and approx_path[1][0] == departure_point):\n",
        "              if approx_path[2] < ff_min: \n",
        "                ff_min = approx_path[2]\n",
        "          h = n * ff_min\n",
        "          f = g_add + h\n",
        "          if f < best_child[1]: \n",
        "            best_child[0] = path[1][0]\n",
        "            best_child[1] = f\n",
        "            g_add_best_child = g_add\n",
        "\n",
        "    else:\n",
        "      #comeback\n",
        "      for approx_path in graph:\n",
        "        if approx_path[0][0] == A_path[0][-1] and approx_path[1][0] == departure_point:\n",
        "          g_add_best_child = approx_path[2]\n",
        "          best_child[0] = departure_point\n",
        "          break\n",
        "    \n",
        "    start = best_child[0]  #new parent\n",
        "    A_path[0].append(start)\n",
        "    A_path[1] = A_path[1] + g_add_best_child  #actual path cost at the moment\n",
        "\n",
        "    if A_path[0][-1] == None:\n",
        "      no_way_flag = True\n",
        "      break\n",
        "\n",
        "  if no_way_flag == False: return A_path\n",
        "  else: return (\"No path found\")"
      ]
    },
    {
      "cell_type": "code",
      "execution_count": null,
      "metadata": {
        "colab": {
          "base_uri": "https://localhost:8080/"
        },
        "id": "xyXQMhm-8Ndo",
        "outputId": "83529849-553e-4743-8003-d5c40e825f6e"
      },
      "outputs": [
        {
          "data": {
            "text/plain": [
              "[[2, 9, 6, 4, 3, 1, 7, 0, 5, 8, 2], 813.7546418154637]"
            ]
          },
          "execution_count": 102,
          "metadata": {},
          "output_type": "execute_result"
        }
      ],
      "source": [
        "a_star(citystart)"
      ]
    },
    {
      "cell_type": "code",
      "execution_count": null,
      "metadata": {
        "id": "Hraj5-A5IW0d"
      },
      "outputs": [],
      "source": []
    }
  ],
  "metadata": {
    "colab": {
      "collapsed_sections": [],
      "provenance": []
    },
    "kernelspec": {
      "display_name": "Python 3 (ipykernel)",
      "language": "python",
      "name": "python3"
    },
    "language_info": {
      "codemirror_mode": {
        "name": "ipython",
        "version": 3
      },
      "file_extension": ".py",
      "mimetype": "text/x-python",
      "name": "python",
      "nbconvert_exporter": "python",
      "pygments_lexer": "ipython3",
      "version": "3.7.1"
    }
  },
  "nbformat": 4,
  "nbformat_minor": 0
}
